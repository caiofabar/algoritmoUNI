{
  "nbformat": 4,
  "nbformat_minor": 0,
  "metadata": {
    "colab": {
      "provenance": [],
      "include_colab_link": true
    },
    "kernelspec": {
      "name": "python3",
      "display_name": "Python 3"
    },
    "language_info": {
      "name": "python"
    }
  },
  "cells": [
    {
      "cell_type": "markdown",
      "metadata": {
        "id": "view-in-github",
        "colab_type": "text"
      },
      "source": [
        "<a href=\"https://colab.research.google.com/github/caiofabar/algoritmoUNI/blob/main/pri_algoritmo.ipynb\" target=\"_parent\"><img src=\"https://colab.research.google.com/assets/colab-badge.svg\" alt=\"Open In Colab\"/></a>"
      ]
    },
    {
      "cell_type": "markdown",
      "source": [
        "Pretexto: um algorítmo básico que auxilia um Diabético a regular sua dosagem de insulina ao longo do seu dia de acordo com Diretriz da Sociedade Brasileira de Diabetes, levando em consideração seu tipo diabético e a quantidade de injeção de insulinas ja tomada\n"
      ],
      "metadata": {
        "id": "qLtPSMcu-jXn"
      }
    },
    {
      "cell_type": "code",
      "execution_count": null,
      "metadata": {
        "colab": {
          "base_uri": "https://localhost:8080/"
        },
        "id": "tr27qSt5sdU7",
        "outputId": "026c3bee-f4d2-4468-f60c-c090104235d0"
      },
      "outputs": [
        {
          "output_type": "stream",
          "name": "stdout",
          "text": [
            "Bem vindo ao sistema de auxílio ao Diabético\n",
            "Qual seu tipo de Diabetes? Digite 1 para Tipo 1 e 2 para Tipo 2\n",
            "1\n",
            "Quantas injeções de insulina você já tomou hoje?\n",
            "3\n",
            "Você está dentro dos parâmetros aceitáveis de insulina administrada!\n"
          ]
        }
      ],
      "source": [
        "#Início do algoritmo\n",
        "\n",
        "\n",
        "# Para diabetes Tipo 1\n",
        "def qnt_insulina1(insulina_inj):\n",
        "  if insulina_inj == 0:\n",
        "    print (\"Você ainda necessita de mais 3-4 injeções ao longo do dia \")\n",
        "  if insulina_inj == 1:\n",
        "    print (\"Você ainda necessita de mais 2-3 injeções ao longo do dia\")\n",
        "  if insulina_inj == 2:\n",
        "    print (\"Você ainda necessita de mais 1-2 injeções ao longo do dia\")\n",
        "  if insulina_inj == 3:\n",
        "    print (\"Você está dentro dos parâmetros aceitáveis de insulina administrada!\")\n",
        "  if insulina_inj == 4:\n",
        "    print (\"Você está dentro dos parâmetros aceitáveis de insulina administrada!\")\n",
        "\n",
        "# Para diabetes Tipo 2\n",
        "def qnt_insulina2(insulina_inj):\n",
        "  if insulina_inj == 0:\n",
        "    print (\"Você ainda necessita administrar sua dosagem de insulina do dia!\")\n",
        "  if insulina_inj == 1:\n",
        "    print (\"Você já administrou sua dosagem necessária de Insulina do dia!\")\n",
        "\n",
        "\n",
        "\n",
        "def main():\n",
        "\n",
        "      print(\"Bem vindo ao sistema de auxílio ao Diabético\")\n",
        "      print (\"Qual seu tipo de Diabetes? Digite 1 para Tipo 1 e 2 para Tipo 2\")\n",
        "      diabetes_tipo = int(input())\n",
        "      if diabetes_tipo == 1:\n",
        "          print (\"Quantas injeções de insulina você já tomou hoje?\")\n",
        "          insulina_inj = int(input())\n",
        "          if 0 <= insulina_inj <= 4:\n",
        "                qnt_insulina1(insulina_inj)\n",
        "      elif diabetes_tipo == 2:\n",
        "          print (\"Quantas injeções de insulina você já tomou hoje?\")\n",
        "          insulina_inj = int(input())\n",
        "          if 0 <= insulina_inj <= 1:\n",
        "                qnt_insulina2(insulina_inj)\n",
        "\n",
        "\n",
        "\n",
        "\n",
        "\n",
        "if __name__ == \"__main__\":\n",
        "    main()"
      ]
    }
  ]
}