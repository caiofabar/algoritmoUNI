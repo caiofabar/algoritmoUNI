{
  "nbformat": 4,
  "nbformat_minor": 0,
  "metadata": {
    "colab": {
      "provenance": [],
      "authorship_tag": "ABX9TyOMRuy9nZquN9S68o172UK1",
      "include_colab_link": true
    },
    "kernelspec": {
      "name": "python3",
      "display_name": "Python 3"
    },
    "language_info": {
      "name": "python"
    }
  },
  "cells": [
    {
      "cell_type": "markdown",
      "metadata": {
        "id": "view-in-github",
        "colab_type": "text"
      },
      "source": [
        "<a href=\"https://colab.research.google.com/github/caiofabar/algoritmoUNI/blob/main/Lista_de_exerc%C3%ADcios.ipynb\" target=\"_parent\"><img src=\"https://colab.research.google.com/assets/colab-badge.svg\" alt=\"Open In Colab\"/></a>"
      ]
    },
    {
      "cell_type": "markdown",
      "source": [
        "Lista de algoritmos de programação - Ciclo 1\n",
        "1. Crie um algoritmo que, dado dois números informados pelo usuário, informe a soma deles."
      ],
      "metadata": {
        "id": "2piYKTxzF7p9"
      }
    },
    {
      "cell_type": "code",
      "execution_count": null,
      "metadata": {
        "colab": {
          "base_uri": "https://localhost:8080/"
        },
        "id": "_pUUdnJXFier",
        "outputId": "51900c4d-24a8-4add-a87e-47c302b0dafd"
      },
      "outputs": [
        {
          "output_type": "stream",
          "name": "stdout",
          "text": [
            "Insira um número\n",
            "5\n",
            "Insira outro número\n",
            "10\n",
            "A soma dos números é 15\n"
          ]
        }
      ],
      "source": [
        "#início do algoritmo\n",
        "#pedir pro usuário inserir dois números\n",
        "print (\"Insira um número\")\n",
        "numero1 = int(input())\n",
        "print (\"Insira outro número\")\n",
        "numero2 = int(input())\n",
        "#fazer a soma dos números\n",
        "soma = numero1 + numero2\n",
        "print (\"A soma dos números é\", soma)"
      ]
    },
    {
      "cell_type": "markdown",
      "source": [
        "2. Crie um algorítmo que, dado três números informados pelo usuário, informe qual é a maior deles"
      ],
      "metadata": {
        "id": "1r-wLtPkHciJ"
      }
    },
    {
      "cell_type": "code",
      "source": [
        "#início do algoritmo\n",
        "#pedir pro usuário inserir três números\n",
        "print (\"Insira o primeiro número\")\n",
        "numero1 = int(input())\n",
        "print (\"Insira o segundo número\")\n",
        "numero2 = int(input())\n",
        "print (\"Insira o terceiro e ultimo número\")\n",
        "numero3 = int(input())\n",
        "#calcular qual é o maior numero\n",
        "if numero1>=numero2 and numero1>=numero3:\n",
        "  maior_numero = numero1\n",
        "elif numero2>=numero1 and numero2>=numero3:\n",
        "  maior_numero = numero2\n",
        "else:\n",
        "  maior_numero = numero3\n",
        "#informar o maior número\n",
        "print (\"O maior número é\", maior_numero)\n"
      ],
      "metadata": {
        "colab": {
          "base_uri": "https://localhost:8080/"
        },
        "id": "U3fMBMQ8HoNR",
        "outputId": "eac296c9-19f8-413c-d6ad-c5ad4e354a46"
      },
      "execution_count": null,
      "outputs": [
        {
          "output_type": "stream",
          "name": "stdout",
          "text": [
            "Insira o primeiro número\n",
            "6\n",
            "Insira o segundo número\n",
            "10\n",
            "Insira o terceiro e ultimo número\n",
            "4\n",
            "O maior número é 10\n"
          ]
        }
      ]
    },
    {
      "cell_type": "markdown",
      "source": [
        "3.Crie um algorítmo que, dado 3 números informados pelo usuário, informe qual o menor deles"
      ],
      "metadata": {
        "id": "qR5npQ-0KJx0"
      }
    },
    {
      "cell_type": "code",
      "source": [
        "#início do algoritmo\n",
        "#pedir pro usuário informar 3 números\n",
        "print (\"Insira o primeiro número\")\n",
        "numero1 = int(input())\n",
        "print (\"Insira o segundo número\")\n",
        "numero2 = int(input())\n",
        "print (\"Insira o terceiro e último número\")\n",
        "numero3 = int(input())\n",
        "#calcular qual é o menor número\n",
        "if numero1<=numero2 and numero1<=numero3:\n",
        "  menor_numero = numero1\n",
        "elif numero2<=numero1 and numero2<=numero3:\n",
        "  menor_numero = numero2\n",
        "else:\n",
        "  menor_numero = numero3\n",
        "#informar o menor número\n",
        "print (\"O menor número é\", menor_numero)"
      ],
      "metadata": {
        "colab": {
          "base_uri": "https://localhost:8080/"
        },
        "id": "I1yvOAXdKSqi",
        "outputId": "5bd4d9c5-4863-4738-c13e-6e704bc3b278"
      },
      "execution_count": null,
      "outputs": [
        {
          "output_type": "stream",
          "name": "stdout",
          "text": [
            "Insira o primeiro número\n",
            "2\n",
            "Insira o segundo número\n",
            "5\n",
            "Insira o terceiro e último número\n",
            "1\n",
            "O menor número é 1\n"
          ]
        }
      ]
    },
    {
      "cell_type": "markdown",
      "source": [
        "4.Crie um algorítmo que, dado o nível de alerta de risco, imprima se ele for GRAVE. o nível de alerta é um numero que varia de 0 a 10. o nível é considerado grave quando ele for superior a 9"
      ],
      "metadata": {
        "id": "IIWlE7S7LSkT"
      }
    },
    {
      "cell_type": "code",
      "source": [
        "#início do algoritmo\n",
        "#pedir pro usuário inserir o nível de alerta de risco, entre 0 a 10\n",
        "print (\"Insira o nível de alerta, sendo este entre 0 a 10\")\n",
        "nivel_alerta = int(input())\n",
        "\n",
        "match nivel_alerta:\n",
        "  case 0:\n",
        "    print (\"Este nível de alerta não é grave\")\n",
        "  case 1:\n",
        "    print (\"Este nível de alerta não é grave\")\n",
        "  case 2:\n",
        "    print (\"Este nível de alerta não é grave\")\n",
        "  case 3:\n",
        "    print (\"Este nível de alerta não é grave\")\n",
        "  case 4:\n",
        "    print (\"Este nível de alerta não é grave\")\n",
        "  case 5:\n",
        "    print (\"Este nível de alerta não é grave\")\n",
        "  case 6:\n",
        "    print (\"Este nível de alerta não é grave\")\n",
        "  case 7:\n",
        "    print (\"Este nível de alerta não é grave\")\n",
        "  case 8:\n",
        "    print (\"Este nível de alerta não é grave\")\n",
        "  case 9:\n",
        "    print (\"Este nível de alerta é GRAVE\")\n",
        "  case 10:\n",
        "    print (\"Este nível de alerta é GRAVE\")\n"
      ],
      "metadata": {
        "colab": {
          "base_uri": "https://localhost:8080/"
        },
        "id": "kk0OIj3ULkoq",
        "outputId": "70b82ac7-2010-4a23-967c-51ea222d9cba"
      },
      "execution_count": null,
      "outputs": [
        {
          "output_type": "stream",
          "name": "stdout",
          "text": [
            "Insira o nível de alerta, sendo este entre 0 a 10\n",
            "10\n",
            "Este nível de alerta é GRAVE\n"
          ]
        }
      ]
    },
    {
      "cell_type": "markdown",
      "source": [
        "5. Agora altere o algorítmo anterior da maneira que ele verifique também se o nível informado está entre 0 e 10. Caso contrário uma mensagem de error deve ser apresentada"
      ],
      "metadata": {
        "id": "kYrKCxfhNRgh"
      }
    },
    {
      "cell_type": "code",
      "source": [
        "#início do algoritmo\n",
        "#pedir pro usuário inserir o nível de alerta de risco, entre 0 a 10\n",
        "print (\"Insira o nível de alerta, sendo este entre 0 a 10\")\n",
        "nivel_alerta = int(input())\n",
        "\n",
        "match nivel_alerta:\n",
        "  case 0:\n",
        "    print (\"Este nível de alerta não é grave\")\n",
        "  case 1:\n",
        "    print (\"Este nível de alerta não é grave\")\n",
        "  case 2:\n",
        "    print (\"Este nível de alerta não é grave\")\n",
        "  case 3:\n",
        "    print (\"Este nível de alerta não é grave\")\n",
        "  case 4:\n",
        "    print (\"Este nível de alerta não é grave\")\n",
        "  case 5:\n",
        "    print (\"Este nível de alerta não é grave\")\n",
        "  case 6:\n",
        "    print (\"Este nível de alerta não é grave\")\n",
        "  case 7:\n",
        "    print (\"Este nível de alerta não é grave\")\n",
        "  case 8:\n",
        "    print (\"Este nível de alerta não é grave\")\n",
        "  case 9:\n",
        "    print (\"Este nível de alerta é GRAVE\")\n",
        "  case 10:\n",
        "    print (\"Este nível de alerta é GRAVE\")\n",
        "#verificar se o número é entre 0 e 10\n",
        "if nivel_alerta<0:\n",
        "      print (\"O número inserido não é valido\")\n",
        "elif nivel_alerta>10:\n",
        "      print (\"O número inserido não é valido\")"
      ],
      "metadata": {
        "colab": {
          "base_uri": "https://localhost:8080/"
        },
        "id": "khVsjGxKNhVX",
        "outputId": "26a03634-15d3-4096-bc2d-335d2890a4e8"
      },
      "execution_count": null,
      "outputs": [
        {
          "output_type": "stream",
          "name": "stdout",
          "text": [
            "Insira o nível de alerta, sendo este entre 0 a 10\n",
            "9\n",
            "Este nível de alerta é GRAVE\n"
          ]
        }
      ]
    },
    {
      "cell_type": "markdown",
      "source": [
        "6. Agora altere o algorítmo anterior da maneira que ele verifique os demais níveis de alerta. Considere 0-3 é \"BAIXO\", maior que 3 e até 6 \"MÉDIO\", maior que 6 e até 9 \"ALTO\", para os demais casos é considerado \"GRAVE\"\n"
      ],
      "metadata": {
        "id": "jKjRAkZdO2hC"
      }
    },
    {
      "cell_type": "code",
      "source": [
        "#início do algoritmo\n",
        "#pedir pro usuário inserir o nível de alerta de risco, entre 0 a 10\n",
        "print (\"Insira o nível de alerta, sendo este entre 0 a 10\")\n",
        "nivel_alerta = int(input())\n",
        "\n",
        "match nivel_alerta:\n",
        "  case 0:\n",
        "    if nivel_alerta>=0 and nivel_alerta<=3:\n",
        "      print (\"Este nível de alerta é BAIXO\")\n",
        "    elif nivel_alerta>3 and nivel_alerta<=6:\n",
        "      print (\"Este nível de alerta é MÉDIO\")\n",
        "    elif nivel_alerta>6 and nivel_alerta<=9:\n",
        "      print (\"Este nível de alerta é ALTO\")\n",
        "    else:\n",
        "      print (\"Este nível de alerta é GRAVE\")\n",
        "  case 1:\n",
        "    if nivel_alerta>=0 and nivel_alerta<=3:\n",
        "      print (\"Este nível de alerta é BAIXO\")\n",
        "    elif nivel_alerta>3 and nivel_alerta<=6:\n",
        "      print (\"Este nível de alerta é MÉDIO\")\n",
        "    elif nivel_alerta>6 and nivel_alerta<=9:\n",
        "      print (\"Este nível de alerta é ALTO\")\n",
        "    else:\n",
        "      print (\"Este nível de alerta é GRAVE\")\n",
        "  case 2:\n",
        "    if nivel_alerta>=0 and nivel_alerta<=3:\n",
        "      print (\"Este nível de alerta é BAIXO\")\n",
        "    elif nivel_alerta>3 and nivel_alerta<=6:\n",
        "      print (\"Este nível de alerta é MÉDIO\")\n",
        "    elif nivel_alerta>6 and nivel_alerta<=9:\n",
        "      print (\"Este nível de alerta é ALTO\")\n",
        "    else:\n",
        "      print (\"Este nível de alerta é GRAVE\")\n",
        "  case 3:\n",
        "    if nivel_alerta>=0 and nivel_alerta<=3:\n",
        "      print (\"Este nível de alerta é BAIXO\")\n",
        "    elif nivel_alerta>3 and nivel_alerta<=6:\n",
        "      print (\"Este nível de alerta é MÉDIO\")\n",
        "    elif nivel_alerta>6 and nivel_alerta<=9:\n",
        "      print (\"Este nível de alerta é ALTO\")\n",
        "    else:\n",
        "      print (\"Este nível de alerta é GRAVE\")\n",
        "  case 4:\n",
        "    if nivel_alerta>=0 and nivel_alerta<=3:\n",
        "      print (\"Este nível de alerta é BAIXO\")\n",
        "    elif nivel_alerta>3 and nivel_alerta<=6:\n",
        "      print (\"Este nível de alerta é MÉDIO\")\n",
        "    elif nivel_alerta>6 and nivel_alerta<=9:\n",
        "      print (\"Este nível de alerta é ALTO\")\n",
        "    else:\n",
        "      print (\"Este nível de alerta é GRAVE\")\n",
        "  case 5:\n",
        "    if nivel_alerta>=0 and nivel_alerta<=3:\n",
        "      print (\"Este nível de alerta é BAIXO\")\n",
        "    elif nivel_alerta>3 and nivel_alerta<=6:\n",
        "      print (\"Este nível de alerta é MÉDIO\")\n",
        "    elif nivel_alerta>6 and nivel_alerta<=9:\n",
        "      print (\"Este nível de alerta é ALTO\")\n",
        "    else:\n",
        "      print (\"Este nível de alerta é GRAVE\")\n",
        "  case 6:\n",
        "    if nivel_alerta>=0 and nivel_alerta<=3:\n",
        "      print (\"Este nível de alerta é BAIXO\")\n",
        "    elif nivel_alerta>3 and nivel_alerta<=6:\n",
        "      print (\"Este nível de alerta é MÉDIO\")\n",
        "    elif nivel_alerta>6 and nivel_alerta<=9:\n",
        "      print (\"Este nível de alerta é ALTO\")\n",
        "    else:\n",
        "      print (\"Este nível de alerta é GRAVE\")\n",
        "  case 7:\n",
        "    if nivel_alerta>=0 and nivel_alerta<=3:\n",
        "      print (\"Este nível de alerta é BAIXO\")\n",
        "    elif nivel_alerta>3 and nivel_alerta<=6:\n",
        "      print (\"Este nível de alerta é MÉDIO\")\n",
        "    elif nivel_alerta>6 and nivel_alerta<=9:\n",
        "      print (\"Este nível de alerta é ALTO\")\n",
        "    else:\n",
        "      print (\"Este nível de alerta é GRAVE\")\n",
        "  case 8:\n",
        "    if nivel_alerta>=0 and nivel_alerta<=3:\n",
        "      print (\"Este nível de alerta é BAIXO\")\n",
        "    elif nivel_alerta>3 and nivel_alerta<=6:\n",
        "      print (\"Este nível de alerta é MÉDIO\")\n",
        "    elif nivel_alerta>6 and nivel_alerta<=9:\n",
        "      print (\"Este nível de alerta é ALTO\")\n",
        "    else:\n",
        "      print (\"Este nível de alerta é GRAVE\")\n",
        "  case 9:\n",
        "    if nivel_alerta>=0 and nivel_alerta<=3:\n",
        "      print (\"Este nível de alerta é BAIXO\")\n",
        "    elif nivel_alerta>3 and nivel_alerta<=6:\n",
        "      print (\"Este nível de alerta é MÉDIO\")\n",
        "    elif nivel_alerta>6 and nivel_alerta<=9:\n",
        "      print (\"Este nível de alerta é ALTO\")\n",
        "    else:\n",
        "      print (\"Este nível de alerta é GRAVE\")\n",
        "  case 10:\n",
        "    if nivel_alerta>=0 and nivel_alerta<=3:\n",
        "      print (\"Este nível de alerta é BAIXO\")\n",
        "    elif nivel_alerta>3 and nivel_alerta<=6:\n",
        "      print (\"Este nível de alerta é MÉDIO\")\n",
        "    elif nivel_alerta>6 and nivel_alerta<=9:\n",
        "      print (\"Este nível de alerta é ALTO\")\n",
        "    else:\n",
        "      print (\"Este nível de alerta é GRAVE\")\n",
        "#verificar se o número é entre 0 e 10\n",
        "if nivel_alerta<0:\n",
        "      print (\"O número inserido não é valido\")\n",
        "elif nivel_alerta>10:\n",
        "      print (\"O número inserido não é valido\")"
      ],
      "metadata": {
        "colab": {
          "base_uri": "https://localhost:8080/"
        },
        "id": "-ZhaAoEAQASV",
        "outputId": "36fc93ea-6dcd-4423-d3b1-c5811246a138"
      },
      "execution_count": null,
      "outputs": [
        {
          "output_type": "stream",
          "name": "stdout",
          "text": [
            "Insira o nível de alerta, sendo este entre 0 a 10\n",
            "11\n",
            "O número inserido não é valido\n"
          ]
        }
      ]
    },
    {
      "cell_type": "markdown",
      "source": [
        "7. Crie um algorítmo que, dado três números informados pelo usuário, verifica se algum deles é múltiplo de outro. Note que pode haver mais de um múltiplo entre eles"
      ],
      "metadata": {
        "id": "3RNjwoOdRlXF"
      }
    },
    {
      "cell_type": "code",
      "source": [
        "#Início do algoritmo\n",
        "#pedir pro usuário informar 3 números maior que 0\n",
        "print (\"Insira o primeiro número, sendo este maior que 0\")\n",
        "numero1 = float(input())\n",
        "print (\"Insira o segundo número, sendo este maior que 0\")\n",
        "numero2 = float(input())\n",
        "print (\"Insira o terceiro e último número, sendo este maior que 0\")\n",
        "numero3 = float(input())\n",
        "\n",
        "#verificar se algum deles é múltiplo de outro\n",
        "if numero1 % numero2 == 0 and numero1 % numero3 == 0:\n",
        "  print (\"O número 1 é múltiplo do número 2 e múltiplo do número 3\")\n",
        "elif numero1 % numero2 == 0:\n",
        "  print (\"O número 1 é múltiplo do número 2\")\n",
        "elif numero1 % numero3 == 0:\n",
        "  print (\"O número 1 é múltiplo do número 3\")\n",
        "elif numero2 % numero1 == 0 and numero2 % numero3 == 0:\n",
        "  print (\"O número 2 é múltiplo do número 1 e múltiplo do número 3\")\n",
        "elif numero2 % numero1 == 0:\n",
        "  print (\"O número 2 é múltiplo do número 1\")\n",
        "elif numero2 % numero3 == 0:\n",
        "  print (\"O número 2 é múltiplo do número 3\")\n",
        "elif numero3 % numero1 == 0 and numero3 % numero2 == 0:\n",
        "  print (\"O número 3 é múltiplo do número 1 e múltiplo do número 2\")\n",
        "elif numero3 % numero1 == 0:\n",
        "  print (\"O número 3 é múltiplo do número 1\")\n",
        "elif numero3 % numero2 == 0:\n",
        "  print (\"O número 3 é multiplo do número 2\")\n",
        "else:\n",
        "  print (\"Os números não são múltiplos\")"
      ],
      "metadata": {
        "colab": {
          "base_uri": "https://localhost:8080/"
        },
        "id": "Ek2yOCOjR2ak",
        "outputId": "bd416ef3-d59d-496f-acf3-13e6437687c8"
      },
      "execution_count": null,
      "outputs": [
        {
          "output_type": "stream",
          "name": "stdout",
          "text": [
            "Insira o primeiro número, sendo este maior que 0\n",
            "3.5\n",
            "Insira o segundo número, sendo este maior que 0\n",
            "7.2\n",
            "Insira o terceiro e último número, sendo este maior que 0\n",
            "9\n",
            "Os números não são múltiplos\n"
          ]
        }
      ]
    },
    {
      "cell_type": "markdown",
      "source": [
        "8. Crie um algorítmo que, dados os tamanhos de três lados informados pelo usuário, verifique-se: (1) é um triângulo isósceles, (2) é Escaleno ou (4) não é um triângulo"
      ],
      "metadata": {
        "id": "SSmtbp_hLibx"
      }
    },
    {
      "cell_type": "code",
      "source": [
        "#Início do algoritmo\n",
        "#Pedir pro usuário inserir três lados\n",
        "print (\"Insira o primeiro lado\")\n",
        "lado1 = int(input())\n",
        "print (\"Insira o segundo lado\")\n",
        "lado2 = int(input())\n",
        "print (\"Insira o terceiro e último lado\")\n",
        "lado3 = int(input())\n",
        "#verificar se forma um triângulo, sendo que cada lado deve ser menor que a soma dos outros dois lados\n",
        "if lado1 < lado2 + lado3 and lado2 < lado1 + lado3 and lado3 < lado1 + lado2:\n",
        "#caso seja um triângulo, verificar qual tipo de triângulo\n",
        "#verificar se dois lados são iguais e um diferente\n",
        "  if lado1 == lado2 != lado3 or lado1 == lado3 != lado2 or lado2 == lado3 != lado1:\n",
        "    print (\"Este triângulo é Isósceles\")\n",
        "#verificar se todos os lados são diferentes\n",
        "  elif lado1 != lado2 != lado3 != lado1:\n",
        "    print (\"Este triângulo é Escaleno\")\n",
        "#verificar se todos lados são iguais\n",
        "  elif lado1 == lado2 and lado2 == lado3:\n",
        "    print (\"Este triângulo é Equilátero\")\n",
        "else:\n",
        "  print (\"Não é um triângulo!\")"
      ],
      "metadata": {
        "colab": {
          "base_uri": "https://localhost:8080/"
        },
        "id": "P7M6YPrCyxtM",
        "outputId": "c0b779f4-4622-48ec-f0b4-98dba06efd64"
      },
      "execution_count": null,
      "outputs": [
        {
          "output_type": "stream",
          "name": "stdout",
          "text": [
            "Insira o primeiro lado\n",
            "4\n",
            "Insira o segundo lado\n",
            "7\n",
            "Insira o terceiro e último lado\n",
            "12\n",
            "Não é um triângulo!\n"
          ]
        }
      ]
    },
    {
      "cell_type": "markdown",
      "source": [
        "9. Crie um algorítmo que, dados os lados de um triângulo informado pelo usuário, calcule a área"
      ],
      "metadata": {
        "id": "75O0MhrgxVNF"
      }
    },
    {
      "cell_type": "code",
      "source": [
        "#Início do algoritmo\n",
        "#Pedir o usuário inserir três lados\n",
        "print (\"Insira o primeiro lado\")\n",
        "lado1 = int(input())\n",
        "print (\"Insira o segundo lado\")\n",
        "lado2 = int(input())\n",
        "print (\"Insira o terceiro e último lado\")\n",
        "lado3 = int(input())\n",
        "#verificar se forma um triângulo, sendo que cada lado deve ser menor que a soma dos outros dois lados\n",
        "if lado1 < lado2 + lado3 and lado2 < lado1 + lado3 and lado3 < lado1 + lado2:\n",
        "#caso seja um triângulo, calcular semiperímetro\n",
        "  semi_perimetro = (lado1 + lado2 + lado3) / 2\n",
        "#calcular a raiz quadrada do semi período para determinar a área\n",
        "  import math\n",
        "  area = math.sqrt(semi_perimetro * (semi_perimetro - lado1) * (semi_perimetro - lado2) * (semi_perimetro - lado3))\n",
        "#exibir a área do triângulo\n",
        "  print (\"A área do triângulo é\", area)\n",
        "else:\n",
        "  print (\"Não é um triângulo!\")\n"
      ],
      "metadata": {
        "colab": {
          "base_uri": "https://localhost:8080/"
        },
        "id": "jCbeMG9nxkob",
        "outputId": "1548a321-739a-4e83-8ef3-63ad82e4aa1e"
      },
      "execution_count": null,
      "outputs": [
        {
          "output_type": "stream",
          "name": "stdout",
          "text": [
            "Insira o primeiro lado\n",
            "3\n",
            "Insira o segundo lado\n",
            "4\n",
            "Insira o terceiro e último lado\n",
            "5\n",
            "A área do triângulo é 6.0\n"
          ]
        }
      ]
    },
    {
      "cell_type": "markdown",
      "source": [
        "10. Considerando o sistema de notas da Unievangélica, construa um algoritmo que, dadas 4 notas parciais de um aluno pelo usuário, calcule a média e imprima se o aluno foi aprovado ou reprovado. Considere os 3 ciclos"
      ],
      "metadata": {
        "id": "VMmE0Swf8oDj"
      }
    },
    {
      "cell_type": "code",
      "source": [
        "#Início do algoritmo\n",
        "#Pedir o usuário para inserir as 4 notas parciais de um aluno\n",
        "print (\"Insira a primeira nota\")\n",
        "nota1 = float(input())\n",
        "print (\"Insira a segunda nota\")\n",
        "nota2 = float(input())\n",
        "print (\"Insira a terceira nota\")\n",
        "nota3 = float(input())\n",
        "print (\"Insira a quarta nota\")\n",
        "nota4 = float(input())\n",
        "#fazer a média das notas\n",
        "nota_final = nota1 * nota2 * nota3 * nota4 / 4\n",
        "\n",
        "#calcular nota baseado em média 60\n",
        "if nota_final <= 60:\n",
        "  print (\"O aluno está reprovado\")\n",
        "elif nota_final > 60:\n",
        "  print (\"O aluno está aprovado\")\n",
        "\n"
      ],
      "metadata": {
        "colab": {
          "base_uri": "https://localhost:8080/"
        },
        "id": "v4eKmg4e9w3o",
        "outputId": "d635fa4d-6186-4bda-f614-a375288fb0a8"
      },
      "execution_count": null,
      "outputs": [
        {
          "output_type": "stream",
          "name": "stdout",
          "text": [
            "Insira a primeira nota\n",
            "35.5\n",
            "Insira a segunda nota\n",
            "60\n",
            "Insira a terceira nota\n",
            "80\n",
            "Insira a quarta nota\n",
            "40\n",
            "O aluno está aprovado\n"
          ]
        }
      ]
    },
    {
      "cell_type": "markdown",
      "source": [
        "11. Agora altere o algorítmo anterior de maneira que ele permita o professor, antes de informar as notas, informe seus respectivos pesos. Depois disso o algorítmo deve, de análoga ao exercício anterior, calcular a média. no entanto, agora considerando seus pesos. Lembrete: a soma dos pesos das notas deve sempre ser 10"
      ],
      "metadata": {
        "id": "WYiCTPeoBpyd"
      }
    },
    {
      "cell_type": "code",
      "source": [
        "#Início do algoritmo\n",
        "#Pedir o usuário para inserir as 4 notas parciais de um aluno\n",
        "print (\"Insira a primeira nota\")\n",
        "nota1 = float(input())\n",
        "print (\"Insira a segunda nota\")\n",
        "nota2 = float(input())\n",
        "print (\"Insira a terceira nota\")\n",
        "nota3 = float(input())\n",
        "print (\"Insira a quarta nota\")\n",
        "nota4 = float(input())\n",
        "# Definir os pesos para cada nota, no pressuposto que a primeira nota tem peso 1, a segunda nota tem peso 2, a terceira nota tem peso 3, e a quarta nota tem peso 4\n",
        "peso1 = 1\n",
        "peso2 = 2\n",
        "peso3 = 3\n",
        "peso4 = 4\n",
        "#definir a soma dos pesos\n",
        "soma_pesos = peso1 + peso2 + peso3 + peso4\n",
        "#fazer a média ponderada das notas\n",
        "media_ponderada = ((nota1 * peso1) + (nota2 * peso2) + (nota3 * peso3) + (nota4 * peso4)) / soma_pesos\n",
        "nota_final = media_ponderada\n",
        "\n",
        "#calcular nota final baseado em média 60\n",
        "if nota_final <= 60:\n",
        "  print (\"O aluno está reprovado\")\n",
        "elif nota_final > 60:\n",
        "  print (\"O aluno está aprovado\")"
      ],
      "metadata": {
        "colab": {
          "base_uri": "https://localhost:8080/"
        },
        "id": "4uhoXvDzCBkl",
        "outputId": "f2d4c4f2-c6fd-41b5-bd71-b284d5dd4d88"
      },
      "execution_count": null,
      "outputs": [
        {
          "output_type": "stream",
          "name": "stdout",
          "text": [
            "Insira a primeira nota\n",
            "80\n",
            "Insira a segunda nota\n",
            "50\n",
            "Insira a terceira nota\n",
            "60\n",
            "Insira a quarta nota\n",
            "90\n",
            "O aluno está aprovado\n"
          ]
        }
      ]
    },
    {
      "cell_type": "markdown",
      "source": [
        "12. Crie um algoritmo que seja capaz de descobrir, por meio de perguntas lógicas (verdadeiro ou falso) sobre características físicas, um animal que o usuário tenha em mente. Considere os animais: pato, águia, galinha, avestruz, pinguim, morcego, ornitorrinco, leão, gato, onça pintada, baleia, tubarão, lambari, enguia, arraia"
      ],
      "metadata": {
        "id": "u8QioNzhg5TA"
      }
    },
    {
      "cell_type": "code",
      "source": [
        " #início do algoritmo\n",
        " #pedir pro usuário imaginar um animal e responder com sim ou não sobre suas características\n",
        " def main():\n",
        "    print(\"Pense em um animal e responda com 's' para Sim e 'n' para Não.\")\n",
        "\n",
        "#determinar as categorias que se encaixam cada animal dentro das perguntas lógicas\n",
        "    perguntas = {\n",
        "        \"O animal tem asas? \": [\"águia\", \"galinha\", \"pinguim\", \"morcego\"],\n",
        "        \"O animal é um mamífero? \": [\"morcego\", \"ornitorrinco\", \"leão\", \"gato\", \"onça pintada\", \"baleia\", \"lambari\", \"enguia\", \"arraia\"],\n",
        "        \"O animal voa? \": [\"águia\", \"morcego\"],\n",
        "        \"O animal pôe ovos? \": [\"galinha\", \"pinguim\", \"ornitorrinco\"],\n",
        "        \"É um animal terrestre? \": [\"águia\", \"galinha\", \"avestruz\", \"pinguim\", \"morcego\", \"ornitorrinco\", \"leão\", \"gato\", \"onça pintada\", \"lambari\", \"enguia\", \"arraia\"],\n",
        "        \"É um predador? \": [\"águia\", \"leão\", \"onça pintada\", \"tubarão\"],\n",
        "        \"É um animal aquático? \": [\"baleia\", \"tubarão\", \"lambari\", \"enguia\", \"arraia\"]\n",
        "    }\n",
        "\n",
        "    animal = animal_descoberto(perguntas)\n",
        "\n",
        "    if animal:\n",
        "        print(\"O animal que você pensou é: \", animal)\n",
        "    else:\n",
        "        print(\"Desculpe, Não consegui adivinhar o animal\")\n",
        "\n",
        "def animal_descoberto(perguntas):\n",
        "    for pergunta, animais in perguntas.items():\n",
        "        resposta = input(pergunta).lower()\n",
        "        if resposta == 's':\n",
        "            for animal in animais:\n",
        "                if verificar_animal(animal):\n",
        "                    return animal\n",
        "    return None\n",
        "\n",
        "def verificar_animal(animal):\n",
        "    resposta = input(\"O animal que você pensou é um {}? (s/n) \".format(animal)).lower()\n",
        "    return resposta == 's'\n",
        "\n",
        "if __name__ == \"__main__\":\n",
        "    main()\n"
      ],
      "metadata": {
        "colab": {
          "base_uri": "https://localhost:8080/"
        },
        "id": "NWcaykceg0MC",
        "outputId": "5ae47890-3ab2-4a45-c073-54c9b008d220"
      },
      "execution_count": null,
      "outputs": [
        {
          "output_type": "stream",
          "name": "stdout",
          "text": [
            "Pense em um animal e responda com 's' para Sim e 'n' para Não.\n",
            "O animal tem asas? s\n",
            "O animal que você pensou é um águia? (s/n) n\n",
            "O animal que você pensou é um galinha? (s/n) s\n",
            "O animal que você pensou é:  galinha\n"
          ]
        }
      ]
    },
    {
      "cell_type": "markdown",
      "source": [
        "13. Faça um algoritmo que, dados três numeros inteiros, os imprima em ordem crescente"
      ],
      "metadata": {
        "id": "dbfweJtA1qup"
      }
    },
    {
      "cell_type": "code",
      "source": [
        "#Início do algoritmo\n",
        "#pedir pro usuário inserir três numeros inteiros\n",
        "print (\"Insira o primeiro número\")\n",
        "n1 = int(input())\n",
        "print (\"Insira o segundo número\")\n",
        "n2 = int(input())\n",
        "print (\"Insira o terceiro número\")\n",
        "n3 = int(input())\n",
        "#inserir os três numeros em uma lista\n",
        "lista = []\n",
        "lista.append(n1)\n",
        "lista.append(n2)\n",
        "lista.append(n3)\n",
        "#usar a função sort para arranjar os números em ordem crescente\n",
        "lista.sort()\n",
        "#imprimir os números na ordem\n",
        "print(lista)"
      ],
      "metadata": {
        "colab": {
          "base_uri": "https://localhost:8080/"
        },
        "id": "nHdUAEft1sOX",
        "outputId": "d9b64ad2-16a0-40dc-d2e2-d34aa4946916"
      },
      "execution_count": null,
      "outputs": [
        {
          "output_type": "stream",
          "name": "stdout",
          "text": [
            "Insira o primeiro número\n",
            "8\n",
            "Insira o segundo número\n",
            "2\n",
            "Insira o terceiro número\n",
            "4\n",
            "[2, 4, 8]\n"
          ]
        }
      ]
    },
    {
      "cell_type": "markdown",
      "source": [
        "14. Agora altere esse algorítmo para que imprima os números em ordem decrescente"
      ],
      "metadata": {
        "id": "F6IpBIul1zZJ"
      }
    },
    {
      "cell_type": "code",
      "source": [
        "#Início do algoritmo\n",
        "#pedir pro usuário inserir três numeros inteiros\n",
        "print (\"Insira o primeiro número\")\n",
        "n1 = int(input())\n",
        "print (\"Insira o segundo número\")\n",
        "n2 = int(input())\n",
        "print (\"Insira o terceiro número\")\n",
        "n3 = int(input())\n",
        "#inserir os três numeros em uma lista\n",
        "lista = []\n",
        "lista.append(n1)\n",
        "lista.append(n2)\n",
        "lista.append(n3)\n",
        "#usar a função sort para arranjar os números e depois a string reverse para decrescente\n",
        "lista.sort(reverse=True)\n",
        "#imprimir os números na ordem\n",
        "print(lista)"
      ],
      "metadata": {
        "colab": {
          "base_uri": "https://localhost:8080/"
        },
        "id": "tu2UFMjR10Lg",
        "outputId": "3a0338e3-48e1-47f9-bfaa-0e31350039f6"
      },
      "execution_count": null,
      "outputs": [
        {
          "output_type": "stream",
          "name": "stdout",
          "text": [
            "Insira o primeiro número\n",
            "5\n",
            "Insira o segundo número\n",
            "6\n",
            "Insira o terceiro número\n",
            "10\n",
            "[10, 6, 5]\n"
          ]
        }
      ]
    },
    {
      "cell_type": "markdown",
      "source": [
        "15.Escreva um algorítmo para o cadastro de dados básicos de alunos. O usuário deve informar o número de matrícula (Cinco dígitos), nome completo do aluno, gênero(O usuário deve informar M ou F), curso(O usuário deve informar \"BES\", \"BEC\" ou \"ADS\") e coeficiente de rendimento (Deve ser maior ou igual a 0 e menor ou igual a 100). Como resultado o sistema deve imprimir a matrícula, o nome do aluno, gênero (Imprimir Masculino ou Feminino), curso (\"Bachalerado em engenharia de Software\" para \"BES\", \"Bachalerado em Engenharia de Computação\" para \"BEC\" e \"Análise de Desenvolvimento de Sistemas\" para \"ADS\"). O coeficiente de rendimento, seguido por \"Excelente\" se o coeficiente for [90, 100], \"Bom\" se entre [70,90), \"Regular\" se entre [50, 70), \"Necessita melhoras\" se entre [30, 50) e \"Preocupante\" se entre [0, 30). Note a existência de intervalos fechados e semi-fechados para os coeficientes"
      ],
      "metadata": {
        "id": "ikEuT-Yz13Y_"
      }
    },
    {
      "cell_type": "code",
      "source": [
        "#início do algoritmo\n",
        "#pedir pro usuário informar seus dados\n",
        "matricula = input(\"Insira o número da matrícula (cinco dígitos): \")\n",
        "nome = input(\"Insira o nome completo do aluno: \")\n",
        "genero = input(\"Insira o gênero (M para masculino, F para feminino): \")\n",
        "curso = input(\"Insira o curso (BES para Bacharelado em Engenharia de Software, BEC para Bacharelado em Engenharia de Computação, ADS para Análise e Desenvolvimento de Sistemas): \")\n",
        "coeficiente = float(input(\"Insira o coeficiente de rendimento (de 0 a 100): \"))\n",
        "# Definir o nome do curso com base na sigla informada\n",
        "if curso == \"BES\":\n",
        "  nome_curso = \"Bacharelado em Engenharia de Software\"\n",
        "elif curso == \"BEC\":\n",
        "  nome_curso = \"Bacharelado em Engenharia de Computação\"\n",
        "elif curso == \"ADS\":\n",
        "  nome_curso = \"Análise e Desenvolvimento de Sistemas\"\n",
        "else:\n",
        "  print(\"Insira um curso válido!\")\n",
        "# Define o gênero\n",
        "nome_genero = \"Masculino\" if genero == \"M\" else \"Feminino\"\n",
        "#determinar o rendimento do aluno\n",
        "def aluno_rendimento(coeficiente):\n",
        "  if coeficiente >= 90:\n",
        "    return \"Excelente\"\n",
        "  elif 70 <= coeficiente < 90:\n",
        "    return \"Bom\"\n",
        "  elif 50 <= coeficiente < 70:\n",
        "    return \"Regular\"\n",
        "  elif 30 <= coeficiente < 50:\n",
        "    return \"Necessita melhoras\"\n",
        "  else:\n",
        "    return \"Preocupante\"\n",
        "\n",
        "# Classificar o rendimento\n",
        "classificacao = aluno_rendimento(coeficiente)\n",
        "\n",
        "# Imprimir os dados do aluno\n",
        "print(\"Dados do Aluno:\")\n",
        "print(\"Matrícula:\", matricula)\n",
        "print(\"Nome Completo:\", nome)\n",
        "print(\"Gênero:\", nome_genero)\n",
        "print(\"Curso:\", nome_curso)\n",
        "print(\"Coeficiente de Rendimento:\", coeficiente)\n",
        "print(\"Classificação do Rendimento:\", classificacao)"
      ],
      "metadata": {
        "colab": {
          "base_uri": "https://localhost:8080/"
        },
        "id": "pAE4s20Y14Xb",
        "outputId": "f79c214f-f699-4a60-fe10-bbe64be2b8b1"
      },
      "execution_count": null,
      "outputs": [
        {
          "output_type": "stream",
          "name": "stdout",
          "text": [
            "Informe o número da matrícula (cinco dígitos): 12345\n",
            "Informe o nome completo do aluno: caio cesar\n",
            "Informe o gênero (M para masculino, F para feminino): M\n",
            "Informe o curso (BES para Bacharelado em Engenharia de Software, BEC para Bacharelado em Engenharia de Computação, ADS para Análise e Desenvolvimento de Sistemas): BES\n",
            "Informe o coeficiente de rendimento (de 0 a 100): 80\n",
            "Dados do Aluno:\n",
            "Matrícula: 12345\n",
            "Nome Completo: caio cesar\n",
            "Gênero: Masculino\n",
            "Curso: Bacharelado em Engenharia de Software\n",
            "Coeficiente de Rendimento: 80.0\n",
            "Classificação do Rendimento: Bom\n"
          ]
        }
      ]
    },
    {
      "cell_type": "markdown",
      "source": [
        "16. Você viajou para os Estados Unidos e descobriu que lá a unidade de medida de temperatura é diferente da do Brasil. Para não ter que acessar um serviço na internet a todo o momento, nem fazer os cálculos manualmente, faça um algoritmo que converte a temperatura, dada uma unidade de medida e uma temperatura. Ou seja, se a data for informada em Celsius o algoritmo deve fornecer a temperatura em Fahrenheit, já se a temperatura for fornecida em Fahrenheit, o resultado deve ser em graus Celsius"
      ],
      "metadata": {
        "id": "iNvaGXmO17yB"
      }
    },
    {
      "cell_type": "code",
      "source": [
        "#Início do algoritmo\n",
        "def conversao():\n",
        "    print('Programa para Conversão de Temperaturas')\n",
        "    print('Digite 1 para converter de Celsius a Fahrenheit')\n",
        "    print('Digite 2 para converter de Fahrenheit a Celsius')\n",
        "\n",
        "def c_f():\n",
        "    C = float(input('Insira a temperatura em grau Celsius: '))\n",
        "    F = C * (9 / 5) + 32\n",
        "    print('Valor em Fahrenheit: {0}°F'.format(F))\n",
        "\n",
        "def f_c():\n",
        "    F = float(input('Insira a temperatura em graus Fahrenheit: '))\n",
        "    C = (F - 32) * (5 / 9)\n",
        "    print('Valor em Celsius: {0}°C'.format(C))\n",
        "\n",
        "if __name__=='__main__':\n",
        "    conversao()\n",
        "    escolha = input('Escolha o tipo de conversão que deseja realizar: ')\n",
        "\n",
        "    if escolha == '1':\n",
        "        c_f()\n",
        "\n",
        "    if escolha == '2':\n",
        "        f_c()"
      ],
      "metadata": {
        "colab": {
          "base_uri": "https://localhost:8080/"
        },
        "id": "3L8e3w_5GvJC",
        "outputId": "5fab5ac1-4366-4afc-9708-07fd6e2de22b"
      },
      "execution_count": null,
      "outputs": [
        {
          "output_type": "stream",
          "name": "stdout",
          "text": [
            "Programa para Conversão de Temperaturas\n",
            "1. Converter de Celsius para Fahrenheit\n",
            "2. Converter de Fahrenheit para Celsius\n",
            "Escolha o tipo de conversão que deseja realizar: 1\n",
            "Entre com a temperatura em graus Celsius: 50\n",
            "Valor em Fahrenheit: 122.0°F\n"
          ]
        }
      ]
    },
    {
      "cell_type": "markdown",
      "source": [
        "17. Problemas simples do cotidiano podem representar desafios para o mundo computacional. Faça um algoritmo que, dado três números inteiros representando dia, mês e ano de uma data, imprima qual o dia seguinte."
      ],
      "metadata": {
        "id": "4CnQVgVA2ANa"
      }
    },
    {
      "cell_type": "code",
      "source": [
        "#início do algoritmo\n",
        "#importar função datetime e timedelta pra trabalhar com datas\n",
        "from datetime import datetime, timedelta\n",
        "# Cria um objeto datetime com a data fornecida\n",
        "def dia_posterior(dia, mes, ano):\n",
        "    data_atual = datetime(ano, mes, dia)\n",
        "\n",
        "# adicionar um dia da data atual\n",
        "    dia_posterior = data_atual + timedelta(days=1)\n",
        "\n",
        "    return dia_posterior.day, dia_posterior.month, dia_posterior.year\n",
        "\n",
        "def main():\n",
        "# Solicita ao usuário os dia, mês e ano\n",
        "    dia = int(input(\"Digite o dia: \"))\n",
        "    mes = int(input(\"Digite o mês: \"))\n",
        "    ano = int(input(\"Digite o ano: \"))\n",
        "\n",
        "# Calcula o dia posterior\n",
        "    posterior = dia_posterior(dia, mes, ano)\n",
        "\n",
        "# Imprime o dia anterior\n",
        "    print(\"O dia seguinte é:\", posterior[0], \"do mês\", posterior[1], \"do ano\", posterior[2])\n",
        "\n",
        "\n",
        "if __name__ == \"__main__\":\n",
        "    main()"
      ],
      "metadata": {
        "colab": {
          "base_uri": "https://localhost:8080/"
        },
        "id": "kobzv_sa2BGQ",
        "outputId": "37aba761-7519-4481-e64c-c03df7db7598"
      },
      "execution_count": null,
      "outputs": [
        {
          "output_type": "stream",
          "name": "stdout",
          "text": [
            "Digite o dia: 3\n",
            "Digite o mês: 10\n",
            "Digite o ano: 2000\n",
            "O dia seguinte é: 4 do mês 10 do ano 2000\n"
          ]
        }
      ]
    },
    {
      "cell_type": "markdown",
      "source": [
        "18. Agora, crie um algoritmo que imprima o dia anterior da data informada"
      ],
      "metadata": {
        "id": "iX73LDSd2DZ1"
      }
    },
    {
      "cell_type": "code",
      "source": [
        "#início do algoritmo\n",
        "#importar função datetime e timedelta pra trabalhar com datas\n",
        "from datetime import datetime, timedelta\n",
        "# Cria um objeto datetime com a data fornecida\n",
        "def dia_anterior(dia, mes, ano):\n",
        "    data_atual = datetime(ano, mes, dia)\n",
        "\n",
        "# remover um dia da data atual\n",
        "    dia_anterior = data_atual - timedelta(days=1)\n",
        "\n",
        "    return dia_anterior.day, dia_anterior.month, dia_anterior.year\n",
        "\n",
        "def main():\n",
        "# Solicita ao usuário os dia, mês e ano\n",
        "    dia = int(input(\"Digite o dia: \"))\n",
        "    mes = int(input(\"Digite o mês: \"))\n",
        "    ano = int(input(\"Digite o ano: \"))\n",
        "\n",
        "# Calcula o dia anterior\n",
        "    anterior = dia_anterior(dia, mes, ano)\n",
        "\n",
        "# Imprime o dia anterior\n",
        "    print(\"O dia anterior é:\", anterior[0], \"do mês\", anterior[1], \"do ano\", anterior[2])\n",
        "\n",
        "\n",
        "if __name__ == \"__main__\":\n",
        "    main()"
      ],
      "metadata": {
        "id": "pth2MR1_2EQS",
        "colab": {
          "base_uri": "https://localhost:8080/"
        },
        "outputId": "4a2e949d-01d6-4a10-c9f2-2bf9a4fcc012"
      },
      "execution_count": null,
      "outputs": [
        {
          "output_type": "stream",
          "name": "stdout",
          "text": [
            "Digite o dia: 4\n",
            "Digite o mês: 10\n",
            "Digite o ano: 2000\n",
            "O dia anterior é: 3 do mês 10\n"
          ]
        }
      ]
    },
    {
      "cell_type": "markdown",
      "source": [
        "19. Faça um algoritmo que, dado o valor total em reais e o número de prestações desejadas, calcule o valor de cada prestação. O número mínimo de prestações deve ser 12. Se o número de prestações for maior ou igual a 24, adicione 10% de juros ao valor total, se for maior ou igual a 36, adicione 15% de juros ao valor total."
      ],
      "metadata": {
        "id": "o9uI1LPU2GY3"
      }
    },
    {
      "cell_type": "code",
      "source": [
        "#início do algoritmo\n",
        "def calcular_prestacoes(valor_total, num_prestacoes):\n",
        "    if num_prestacoes < 12:\n",
        "        print(\"Número de prestações inválido. O número mínimo de prestações deve ser 12.\")\n",
        "        return\n",
        "\n",
        "    if num_prestacoes >= 36:\n",
        "        valor_total *= 1.15  # Adiciona 15% de juros\n",
        "    elif num_prestacoes >= 24:\n",
        "        valor_total *= 1.10  # Adiciona 10% de juros\n",
        "\n",
        "    valor_prestacao = valor_total / num_prestacoes\n",
        "    return valor_prestacao\n",
        "\n",
        "def main():\n",
        "    valor_total = float(input(\"Digite o valor total em reais: \"))\n",
        "    num_prestacoes = int(input(\"Digite o número de prestações desejadas: \"))\n",
        "\n",
        "    valor_prestacao = calcular_prestacoes(valor_total, num_prestacoes)\n",
        "    if valor_prestacao is not None:\n",
        "        print(\"O valor de cada prestação é: R$\", valor_prestacao)\n",
        "\n",
        "if __name__ == \"__main__\":\n",
        "    main()\n"
      ],
      "metadata": {
        "id": "3OtvdNQi2HPa"
      },
      "execution_count": null,
      "outputs": []
    },
    {
      "cell_type": "markdown",
      "source": [
        "20. Escreva um programa que, dado o valor da venda, imprima a comissa o que devera ser paga ao vendedor. Para calcular a comissão, considere a tabela abaixo:"
      ],
      "metadata": {
        "id": "yXOUXEE02JC9"
      }
    },
    {
      "cell_type": "code",
      "source": [
        "#início do algoritmo\n",
        "def calcular_comissao(valor_venda):\n",
        "    if valor_venda <= 10000:\n",
        "        comissao = valor_venda * 0.05  # 5% de comissão para vendas até R$ 10.000\n",
        "    elif valor_venda <= 20000:\n",
        "        comissao = valor_venda * 0.10  # 10% de comissão para vendas entre R$ 10.001 e R$ 20.000\n",
        "    else:\n",
        "        comissao = valor_venda * 0.15  # 15% de comissão para vendas acima de R$ 20.000\n",
        "    return comissao\n",
        "\n",
        "def main():\n",
        "    valor_venda = float(input(\"Digite o valor da venda: \"))\n",
        "\n",
        "    comissao = calcular_comissao(valor_venda)\n",
        "    print(\"A comissão a ser paga ao vendedor é: R$\", comissao)\n",
        "\n",
        "if __name__ == \"__main__\":\n",
        "    main()\n"
      ],
      "metadata": {
        "id": "islvXEOc2Jxn"
      },
      "execution_count": null,
      "outputs": []
    }
  ]
}